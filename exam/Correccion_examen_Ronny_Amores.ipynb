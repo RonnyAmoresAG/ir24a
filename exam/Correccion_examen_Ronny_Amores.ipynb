{
 "cells": [
  {
   "cell_type": "markdown",
   "id": "fa630661cfe7ea84",
   "metadata": {},
   "source": [
    "## Corrección del Examen de 1er bimestre"
   ]
  },
  {
   "cell_type": "markdown",
   "id": "e27cce16d2bfb3cf",
   "metadata": {},
   "source": [
    "Considere el siguiente corpus:"
   ]
  },
  {
   "cell_type": "code",
   "execution_count": 27,
   "id": "57a28e7cef70ec31",
   "metadata": {
    "ExecuteTime": {
     "end_time": "2024-06-13T15:39:32.524191Z",
     "start_time": "2024-06-13T15:39:32.506204Z"
    }
   },
   "outputs": [],
   "source": [
    "doc1 = \"Las habilidades blandas son fundamentales para el éxito en el campo de la informática. Estas habilidades fundamentales incluyen la comunicación efectiva, la capacidad de trabajar en equipo y la gestión del tiempo.\"\n",
    "doc2 = \"El desarrollo de habilidades blandas es fundamental para los informáticos, ya que estas competencias facilitan la interacción y colaboración en entornos de trabajo dinámicos.\"\n",
    "doc3 = \"En la informática, la resolución de problemas es una habilidad técnica esencial, pero combinarla con habilidades blandas como la creatividad y el pensamiento crítico puede llevar a soluciones innovadoras.\"\n",
    "doc4 = \"La empatía, por ejemplo, es una habilidad blanda que permite a los profesionales de la informática entender y anticipar las necesidades fundamentales de los usuarios, mejorando así la calidad de los productos y técnicas desarrolladas.\"\n",
    "doc5 = \"La inteligencia emocional es una habilidad blanda vital para los informáticos. Permite gestionar mejor las emociones propias y las de los demás, facilitando así un entorno de trabajo más armonioso y productivo.\"\n",
    "\n",
    "# wset es el conjunto de palabras en el corpus\n",
    "wset = set()\n",
    "# docs es el arreglo de documentos en el corpus\n",
    "docs = [doc1, doc2, doc3, doc4, doc5]"
   ]
  },
  {
   "cell_type": "markdown",
   "id": "2719675b6ca2ed47",
   "metadata": {},
   "source": [
    "#### 0. Preprocesamiento del corpus"
   ]
  },
  {
   "cell_type": "markdown",
   "id": "f9347670f84cb3d3",
   "metadata": {},
   "source": [
    "Considere las siguientes palabras vacías, o stop words:\n",
    "{a, así, como, con, de, del, el, en, es, estas, la, las, los, más, para, pero, por, que, son, un, una, y, ya}"
   ]
  },
  {
   "cell_type": "code",
   "execution_count": 28,
   "id": "6d34f7d0baf64b9d",
   "metadata": {
    "ExecuteTime": {
     "end_time": "2024-06-13T15:39:43.499162Z",
     "start_time": "2024-06-13T15:39:43.480261Z"
    }
   },
   "outputs": [
    {
     "name": "stdout",
     "output_type": "stream",
     "text": [
      "[('habilidades', 4), ('blandas', 3), ('fundamentales', 3), ('informática', 3), ('habilidad', 3), ('informáticos', 2), ('trabajo', 2), ('blanda', 2), ('permite', 2), ('éxito', 1), ('campo', 1), ('incluyen', 1), ('comunicación', 1), ('efectiva', 1), ('capacidad', 1), ('trabajar', 1), ('equipo', 1), ('gestión', 1), ('tiempo', 1), ('desarrollo', 1), ('fundamental', 1), ('competencias', 1), ('facilitan', 1), ('interacción', 1), ('colaboración', 1), ('entornos', 1), ('dinámicos', 1), ('resolución', 1), ('problemas', 1), ('técnica', 1), ('esencial', 1), ('combinarla', 1), ('creatividad', 1), ('pensamiento', 1), ('crítico', 1), ('puede', 1), ('llevar', 1), ('soluciones', 1), ('innovadoras', 1), ('empatía', 1), ('ejemplo', 1), ('profesionales', 1), ('entender', 1), ('anticipar', 1), ('necesidades', 1), ('usuarios', 1), ('mejorando', 1), ('calidad', 1), ('productos', 1), ('técnicas', 1), ('desarrolladas', 1), ('inteligencia', 1), ('emocional', 1), ('vital', 1), ('gestionar', 1), ('mejor', 1), ('emociones', 1), ('propias', 1), ('demás', 1), ('facilitando', 1), ('entorno', 1), ('armonioso', 1), ('productivo', 1)]\n"
     ]
    }
   ],
   "source": [
    "import string\n",
    "from collections import defaultdict\n",
    "\n",
    "stopw = ['la','de','y','los','las','el','en','es','para','una','estas','a','así','son','del','ya','que','pero','con','como','por','un','más']\n",
    "# stopw = []\n",
    "\n",
    "word_counts = defaultdict(int)\n",
    "for doc in docs:\n",
    "    for word in doc.lower().translate(str.maketrans('', '', string.punctuation)).split(\" \"):\n",
    "        if word not in stopw:\n",
    "            wset.add(word)\n",
    "            word_counts[word.lower()] += 1\n",
    "\n",
    "# sorted_word_count es un arreglo de términos con su respectivo conteo\n",
    "# está ordenado del término más frecuente al menos frecuente\n",
    "sorted_word_count = sorted(word_counts.items(), key=lambda item: item[1], reverse=True)\n",
    "print(sorted_word_count)"
   ]
  },
  {
   "cell_type": "code",
   "execution_count": 29,
   "id": "94217c75deee9a6a",
   "metadata": {
    "ExecuteTime": {
     "end_time": "2024-06-13T15:39:46.924803Z",
     "start_time": "2024-06-13T15:39:44.042794Z"
    }
   },
   "outputs": [
    {
     "name": "stdout",
     "output_type": "stream",
     "text": [
      "[('habil', 7), ('bland', 5), ('informat', 5), ('fundamental', 4), ('trabaj', 3), ('gestion', 2), ('desarroll', 2), ('facilit', 2), ('entorn', 2), ('tecnic', 2), ('permit', 2), ('mejor', 2), ('product', 2), ('exit', 1), ('camp', 1), ('inclu', 1), ('comun', 1), ('efect', 1), ('capac', 1), ('equip', 1), ('tiemp', 1), ('competent', 1), ('interaccion', 1), ('colabor', 1), ('dinam', 1), ('resolu', 1), ('problem', 1), ('esencial', 1), ('per', 1), ('combin', 1), ('com', 1), ('creativ', 1), ('pensamient', 1), ('critic', 1), ('pued', 1), ('llev', 1), ('solucion', 1), ('innov', 1), ('empat', 1), ('ejempl', 1), ('profesional', 1), ('entend', 1), ('anticip', 1), ('neces', 1), ('usuari', 1), ('calid', 1), ('inteligent', 1), ('emocional', 1), ('vital', 1), ('emocion', 1), ('propi', 1), ('demas', 1), ('mas', 1), ('armoni', 1)]\n"
     ]
    }
   ],
   "source": [
    "# se repite el procesamiento anterior de conteo de palabras, integrando la actividad de Stemming\n",
    "from nltk.stem import SnowballStemmer\n",
    "\n",
    "stemmer = SnowballStemmer('spanish')\n",
    "stopw = ['la','de','y','los','lo','las','el','en','es','para','una','estas', 'esta','a','así','son','del','ya','que','pero','con','como','por','un','más','má','demá', 'par','asi']\n",
    "# stopw = []\n",
    "\n",
    "stem_docs = []\n",
    "for doc in docs:\n",
    "    sdoc = []\n",
    "    for word in doc.lower().translate(str.maketrans('', '', string.punctuation)).split(\" \"):\n",
    "        if word not in stopw:\n",
    "            sdoc.append(stemmer.stem(word))\n",
    "    stem_docs.append(sdoc)\n",
    "\n",
    "word_counts = defaultdict(int)\n",
    "for doc in docs:\n",
    "    for word in doc.lower().translate(str.maketrans('', '', string.punctuation)).split(\" \"):\n",
    "        word = stemmer.stem(word)\n",
    "        if word not in stopw:\n",
    "            wset.add(word)\n",
    "            word_counts[word.lower()] += 1\n",
    "            \n",
    "sorted_word_count = sorted(word_counts.items(), key=lambda item: item[1], reverse=True)\n",
    "print(sorted_word_count)"
   ]
  },
  {
   "cell_type": "markdown",
   "id": "d40128bb32061442",
   "metadata": {},
   "source": [
    "#### 1. Determine un espacio vectorial para la representación de documentos con 10 dimensiones. Considere a las palabras a partir de su raíz, para simplificar su representación computacional."
   ]
  },
  {
   "cell_type": "code",
   "execution_count": 30,
   "id": "fc43e15eb478008d",
   "metadata": {
    "ExecuteTime": {
     "end_time": "2024-06-13T15:41:17.701334Z",
     "start_time": "2024-06-13T15:41:17.689356Z"
    }
   },
   "outputs": [
    {
     "name": "stdout",
     "output_type": "stream",
     "text": [
      "[('informat', 5), ('fundamental', 4), ('trabaj', 3), ('gestion', 2), ('desarroll', 2), ('facilit', 2), ('entorn', 2), ('tecnic', 2), ('permit', 2), ('solucion', 1)]\n"
     ]
    }
   ],
   "source": [
    "ev = sorted_word_count[2:11]\n",
    "ev.append(sorted_word_count[36])\n",
    "print(ev)"
   ]
  },
  {
   "cell_type": "markdown",
   "id": "8290b51e1ceba387",
   "metadata": {},
   "source": [
    "#### 2. Construya una matriz binaria de incidencias (presencia/ausencia)"
   ]
  },
  {
   "cell_type": "code",
   "execution_count": 31,
   "id": "d7d2c8ff13edcdea",
   "metadata": {
    "ExecuteTime": {
     "end_time": "2024-06-13T15:41:56.979201Z",
     "start_time": "2024-06-13T15:41:56.969032Z"
    }
   },
   "outputs": [
    {
     "name": "stdout",
     "output_type": "stream",
     "text": [
      "[[1, 1, 1, 1, 0, 0, 0, 0, 0, 0], [1, 1, 1, 0, 1, 1, 1, 0, 0, 0], [1, 0, 0, 0, 0, 0, 0, 1, 0, 1], [1, 1, 0, 0, 1, 0, 0, 1, 1, 0], [1, 0, 1, 1, 0, 1, 1, 0, 1, 0]]\n"
     ]
    }
   ],
   "source": [
    "# ev_docs es un arreglo con la representación binaria (presencia/ausencia) de los documentos en el espacio vectorial\n",
    "ev_docs = []\n",
    "for doc in stem_docs:\n",
    "    ev_doc = []\n",
    "    for dim in ev:\n",
    "        if dim[0] in doc:\n",
    "            ev_doc.append(1)\n",
    "        else:\n",
    "            ev_doc.append(0)\n",
    "    ev_docs.append(ev_doc)\n",
    "print(ev_docs)"
   ]
  },
  {
   "cell_type": "markdown",
   "id": "df83dcaee57cbd96",
   "metadata": {},
   "source": [
    "#### 3. Utilizando la similitud Jaccard, determine cuáles son los documentos por recuperarse para las siguientes consultas:\n",
    "3.1. “habilidad” AND “blanda” AND “fundamental”\n",
    "\n",
    "3.2. “habilidad” AND “blanda” AND NOT “técnica”\n",
    "\n",
    "3.3. “gestión” OR “solución”"
   ]
  },
  {
   "cell_type": "code",
   "execution_count": 32,
   "id": "de10645116562290",
   "metadata": {
    "ExecuteTime": {
     "end_time": "2024-06-13T15:49:06.379829Z",
     "start_time": "2024-06-13T15:49:06.358561Z"
    }
   },
   "outputs": [],
   "source": [
    "# hablidad AND blanda AND fundamental\n",
    "q1 = [0,1,0,0,0,0,0,0,0,0]\n",
    "# hablidad AND blanda AND NOT técnica\n",
    "q2 = [1,1,1,1,1,1,1,0,1,1]\n",
    "# gestión OR solución\n",
    "q3 = [0,0,0,1,0,0,0,0,0,1]\n",
    "\n",
    "queries = [q1,q2,q3]\n",
    "read_queries = ['hablidad AND blanda AND fundamental', 'hablidad AND blanda AND NOT técnica', 'gestión OR solución']"
   ]
  },
  {
   "cell_type": "markdown",
   "id": "bdb3661f6f1addc2",
   "metadata": {},
   "source": [
    "Similitud Jaccard: $JSim=|Q\\cap D|/|Q\\cup D|$"
   ]
  },
  {
   "cell_type": "code",
   "execution_count": 33,
   "id": "49a1a8bdc6157f5b",
   "metadata": {
    "ExecuteTime": {
     "end_time": "2024-06-13T16:16:35.146806Z",
     "start_time": "2024-06-13T16:16:35.133864Z"
    }
   },
   "outputs": [],
   "source": [
    "def jsim(q,d):\n",
    "    c = 0\n",
    "    for i in range(len(q)):\n",
    "        # contar los elementos iguales a 1 que son comunes entre los dos conjuntos\n",
    "        if q[i] == d[i] and d[i] == 1:\n",
    "            c += 1\n",
    "    f = 0\n",
    "    for i in range(len(q)):\n",
    "        # contar los elementos iguales a 1 en cualquiera de los dos conjuntos\n",
    "        if q[i] == 1 or d[i] == 1:\n",
    "            f += 1\n",
    "    #print('c',c,'f',f)\n",
    "    return c/f"
   ]
  },
  {
   "cell_type": "code",
   "execution_count": 34,
   "id": "a72cf66d1df3ef33",
   "metadata": {
    "ExecuteTime": {
     "end_time": "2024-06-13T16:21:58.532562Z",
     "start_time": "2024-06-13T16:21:58.508319Z"
    }
   },
   "outputs": [
    {
     "name": "stdout",
     "output_type": "stream",
     "text": [
      "-------------------------------------------------------\n",
      "QUERY:  0 hablidad AND blanda AND fundamental\n",
      "doc 0 Jsim 0.25\n",
      "Las habilidades blandas son fundamentales para el éxito en el campo de la informática. Estas habilidades fundamentales incluyen la comunicación efectiva, la capacidad de trabajar en equipo y la gestión del tiempo.\n",
      "doc 1 Jsim 0.16666666666666666\n",
      "El desarrollo de habilidades blandas es fundamental para los informáticos, ya que estas competencias facilitan la interacción y colaboración en entornos de trabajo dinámicos.\n",
      "doc 3 Jsim 0.2\n",
      "La empatía, por ejemplo, es una habilidad blanda que permite a los profesionales de la informática entender y anticipar las necesidades fundamentales de los usuarios, mejorando así la calidad de los productos y técnicas desarrolladas.\n",
      "-------------------------------------------------------\n",
      "QUERY:  1 hablidad AND blanda AND NOT técnica\n",
      "doc 0 Jsim 0.4444444444444444\n",
      "Las habilidades blandas son fundamentales para el éxito en el campo de la informática. Estas habilidades fundamentales incluyen la comunicación efectiva, la capacidad de trabajar en equipo y la gestión del tiempo.\n",
      "doc 1 Jsim 0.6666666666666666\n",
      "El desarrollo de habilidades blandas es fundamental para los informáticos, ya que estas competencias facilitan la interacción y colaboración en entornos de trabajo dinámicos.\n",
      "doc 2 Jsim 0.2\n",
      "En la informática, la resolución de problemas es una habilidad técnica esencial, pero combinarla con habilidades blandas como la creatividad y el pensamiento crítico puede llevar a soluciones innovadoras.\n",
      "doc 3 Jsim 0.4\n",
      "La empatía, por ejemplo, es una habilidad blanda que permite a los profesionales de la informática entender y anticipar las necesidades fundamentales de los usuarios, mejorando así la calidad de los productos y técnicas desarrolladas.\n",
      "doc 4 Jsim 0.6666666666666666\n",
      "La inteligencia emocional es una habilidad blanda vital para los informáticos. Permite gestionar mejor las emociones propias y las de los demás, facilitando así un entorno de trabajo más armonioso y productivo.\n",
      "-------------------------------------------------------\n",
      "QUERY:  2 gestión OR solución\n",
      "doc 0 Jsim 0.2\n",
      "Las habilidades blandas son fundamentales para el éxito en el campo de la informática. Estas habilidades fundamentales incluyen la comunicación efectiva, la capacidad de trabajar en equipo y la gestión del tiempo.\n",
      "doc 2 Jsim 0.25\n",
      "En la informática, la resolución de problemas es una habilidad técnica esencial, pero combinarla con habilidades blandas como la creatividad y el pensamiento crítico puede llevar a soluciones innovadoras.\n",
      "doc 4 Jsim 0.14285714285714285\n",
      "La inteligencia emocional es una habilidad blanda vital para los informáticos. Permite gestionar mejor las emociones propias y las de los demás, facilitando así un entorno de trabajo más armonioso y productivo.\n"
     ]
    }
   ],
   "source": [
    "for i in range(len(queries)):\n",
    "    print('-------------------------------------------------------')\n",
    "    print('QUERY: ',i,read_queries[i])\n",
    "    for j in range(0,len(ev_docs)):\n",
    "        #print(queries[i],ev_docs[j])\n",
    "        jsim_ = jsim(queries[i],ev_docs[j])\n",
    "        if jsim_ > 0:\n",
    "            print('doc',j,'Jsim',jsim_)\n",
    "            print(docs[j])"
   ]
  },
  {
   "cell_type": "markdown",
   "id": "9bb0f4f00050dc6a",
   "metadata": {},
   "source": [
    "#### 4. Con el mismo espacio vectorial del punto 1, construya una matriz de términos y documentos (matriz TF-IDF)."
   ]
  },
  {
   "cell_type": "markdown",
   "id": "24ca205bbea581f5",
   "metadata": {},
   "source": [
    "Frecuencia de término: $TF_{ij}=count(t_i,d_j)/|d_j|$\n",
    "\n",
    "Frecuencia inversa de término: $IDF_{ij} = log(|corpus|/count(d_j,t_i))$"
   ]
  },
  {
   "cell_type": "code",
   "execution_count": 35,
   "id": "dae62d05079b0a1e",
   "metadata": {},
   "outputs": [
    {
     "name": "stdout",
     "output_type": "stream",
     "text": [
      "Vector TF-IDF para el Documento 1:\n",
      "[0.0, 0.0, 0.0, 0.0, 0.0, 0.0, 0.0, 0.0, 0.0, 0.0, 0.0, 0.0, 0.0, 0.0, 0.0, 0.0, 0.057268170742134694, 0.0, 0.0, 0.0, 0.0, 0.0, 0.057268170742134694, 0.0, 0.0, 0.0, 0.0, 0.0, 0.0, 0.0, 0.0, 0.0, 0.0, 0.0, -0.022790194599244324, 0.0, -0.011395097299622162, 0.0, 0.0, 0.0, 0.0, 0.03192660148537442, 0.0, 0.01394647195713811, 0.0, 0.0, 0.0, 0.0, 0.057268170742134694, 0.0, 0.0, 0.057268170742134694, 0.0, 0.0, 0.057268170742134694, 0.0, 0.0, 0.0, 0.0, 0.0, 0.0, 0.0, 0.0, 0.0, 0.0, 0.0, 0.0, 0.0, 0.0, 0.0, 0.0, 0.0, 0.0, 0.0, 0.0, 0.0, 0.0, 0.0, 0.0, 0.0, 0.0, 0.0, 0.0, 0.057268170742134694, 0.0, 0.0, 0.0, 0.0, 0.0, 0.0, 0.0, 0.057268170742134694, 0.057268170742134694, 0.0, 0.0, 0.0, 0.0, -0.011395097299622162, 0.0, 0.02789294391427622, 0.0, 0.0, 0.0, 0.0, 0.0, 0.0, 0.0, 0.0, 0.0, 0.0, 0.0, 0.0]\n",
      "\n",
      "Vector TF-IDF para el Documento 2:\n",
      "[0.0, 0.0, 0.0, 0.0, 0.0, 0.0, 0.0, 0.0, 0.0, 0.0, 0.0, 0.0, 0.0, 0.0, 0.0, 0.0, 0.0, 0.0, 0.04256880198049923, 0.0, 0.0, 0.0, 0.0, 0.0, 0.0, 0.0, 0.0, 0.0, 0.0, 0.0, 0.0, 0.0, 0.0, 0.0, -0.015193463066162882, 0.0, -0.015193463066162882, 0.0, 0.0, 0.0, 0.0, 0.0, 0.0, 0.018595295942850813, 0.0, 0.0, 0.0, 0.0, 0.0, 0.0, 0.0, 0.0, 0.0, 0.0, 0.0, 0.0, 0.0, 0.0, 0.0, 0.0, 0.0, 0.04256880198049923, 0.0, 0.0, 0.0, 0.0, 0.0, 0.0, 0.0, 0.0, 0.0, 0.0, 0.07635756098951292, 0.0, 0.0, 0.07635756098951292, 0.04256880198049923, 0.0, 0.0, 0.0, 0.0, 0.0, 0.0, 0.0, 0.0, 0.0, 0.0, 0.07635756098951292, 0.0, 0.0, 0.0, 0.0, 0.0, 0.0, 0.0, 0.0, 0.0, -0.015193463066162882, 0.0, 0.018595295942850813, 0.0, 0.0, 0.0, 0.0, 0.0, 0.0, 0.07635756098951292, 0.0, 0.0, 0.0, 0.0, 0.0]\n",
      "\n",
      "Vector TF-IDF para el Documento 3:\n",
      "[0.0, 0.0, 0.0, 0.0, 0.0, 0.0, 0.0, 0.0, 0.0, 0.0, 0.0, 0.0, 0.057268170742134694, 0.0, 0.0, 0.0, 0.0, 0.0, 0.0, 0.0, 0.057268170742134694, 0.0, 0.0, 0.057268170742134694, 0.0, 0.0, 0.0, 0.0, 0.0, 0.0, 0.0, 0.057268170742134694, 0.0, 0.0, -0.022790194599244324, 0.0, -0.011395097299622162, 0.0, 0.0, 0.0, 0.0, 0.0, 0.0, 0.0, 0.057268170742134694, 0.0, 0.0, 0.0, 0.0, 0.0, 0.0, 0.0, 0.0, 0.057268170742134694, 0.0, 0.0, 0.0, 0.0, 0.0, 0.057268170742134694, 0.0, 0.0, 0.0, 0.0, 0.0, 0.0, 0.0, 0.0, 0.0, 0.0, 0.0, 0.0, 0.0, 0.0, 0.0, 0.0, 0.0, 0.0, 0.0, 0.057268170742134694, 0.057268170742134694, 0.057268170742134694, 0.0, 0.0, 0.0, 0.0, 0.0, 0.0, 0.0, 0.0, 0.0, 0.0, 0.0, 0.0, 0.0, 0.0, 0.03192660148537442, -0.011395097299622162, 0.0, 0.0, 0.0, 0.0, 0.0, 0.0, 0.0, 0.0, 0.0, 0.0, 0.0, 0.057268170742134694, 0.0, 0.0]\n",
      "\n",
      "Vector TF-IDF para el Documento 4:\n",
      "[0.0, 0.05389945481612677, 0.0, 0.0, 0.0, 0.0, 0.0, 0.0, 0.0, 0.0, 0.0, 0.0, 0.0, 0.0, 0.0, 0.0, 0.0, 0.0, 0.0, 0.0, 0.0, 0.0, 0.0, 0.0, 0.0, 0.0, 0.0, 0.0, 0.0, 0.0, 0.030048566103881808, 0.0, 0.05389945481612677, 0.0, -0.010724797458467918, 0.05389945481612677, -0.010724797458467918, 0.0, 0.0, 0.05389945481612677, 0.0, 0.0, 0.0, 0.0, 0.0, 0.0, 0.030048566103881808, 0.05389945481612677, 0.0, 0.05389945481612677, 0.0, 0.0, 0.0, 0.0, 0.0, 0.0, 0.0, 0.0, 0.0, 0.0, 0.0, 0.030048566103881808, 0.0, 0.0, 0.0, 0.0, 0.0, 0.0, 0.05389945481612677, 0.0, 0.0, 0.030048566103881808, 0.0, 0.0, 0.0, 0.0, 0.0, 0.0, 0.0, 0.0, 0.0, 0.0, 0.0, 0.0, 0.0, 0.0, 0.0, 0.0, 0.0, 0.0, 0.0, 0.0, 0.0, 0.0, 0.0, 0.0, 0.030048566103881808, -0.010724797458467918, 0.0, 0.013126091253777044, 0.0, 0.05389945481612677, 0.0, 0.0, 0.0, 0.0, 0.0, 0.0, 0.0, 0.0, 0.0, 0.0]\n",
      "\n",
      "Vector TF-IDF para el Documento 5:\n",
      "[0.0, 0.0, 0.0, 0.0, 0.0, 0.0, 0.0, 0.0, 0.0, 0.05389945481612677, 0.0, 0.0, 0.0, 0.0, 0.0, 0.0, 0.0, 0.0, 0.030048566103881808, 0.0, 0.0, 0.0, 0.0, 0.0, 0.0, 0.0, 0.0, 0.0, 0.0, 0.0, 0.030048566103881808, 0.0, 0.0, 0.0, -0.010724797458467918, 0.0, -0.010724797458467918, 0.0, 0.0, 0.0, 0.0, 0.030048566103881808, 0.0, 0.013126091253777044, 0.0, 0.0, 0.030048566103881808, 0.0, 0.0, 0.0, 0.0, 0.0, 0.0, 0.0, 0.0, 0.0, 0.0, 0.0, 0.05389945481612677, 0.0, 0.0, 0.0, 0.0, 0.0, 0.0, 0.05389945481612677, 0.0, 0.0, 0.0, 0.0, 0.0, 0.030048566103881808, 0.0, 0.0, 0.0, 0.0, 0.030048566103881808, 0.05389945481612677, 0.0, 0.0, 0.0, 0.0, 0.0, 0.0, 0.0, 0.05389945481612677, 0.0, 0.0, 0.0, 0.0, 0.0, 0.0, 0.0, 0.0, 0.05389945481612677, 0.0, 0.0, -0.010724797458467918, 0.0, 0.0, 0.0, 0.0, 0.0, 0.05389945481612677, 0.0, 0.0, 0.0, 0.0, 0.0, 0.0, 0.0, 0.0]\n",
      "\n"
     ]
    }
   ],
   "source": [
    "import math\n",
    "\n",
    "# Función para calcular la Frecuencia de Término (TF)\n",
    "def calcular_frecuencia_termino(docs, vocabulario):\n",
    "    matriz_tf = []\n",
    "    for doc in docs:\n",
    "        vector_tf = []\n",
    "        longitud_doc = len(doc)\n",
    "        for palabra in vocabulario:\n",
    "            frecuencia = doc.count(palabra)\n",
    "            tf = frecuencia / longitud_doc if longitud_doc != 0 else 0\n",
    "            vector_tf.append(tf)\n",
    "        matriz_tf.append(vector_tf)\n",
    "    return matriz_tf\n",
    "\n",
    "# Función para calcular la Frecuencia Inversa de Término (IDF)\n",
    "def calcular_frecuencia_inversa_termino(docs, vocabulario):\n",
    "    num_docs = len(docs)\n",
    "    vector_idf = []\n",
    "    for palabra in vocabulario:\n",
    "        num_docs_con_palabra = sum(1 for doc in docs if palabra in doc)\n",
    "        idf = math.log(num_docs / (1 + num_docs_con_palabra))\n",
    "        vector_idf.append(idf)\n",
    "    return vector_idf\n",
    "\n",
    "# Función para calcular la Matriz TF-IDF\n",
    "def calcular_tfidf(matriz_tf, vector_idf):\n",
    "    matriz_tfidf = []\n",
    "    for vector_tf in matriz_tf:\n",
    "        vector_tfidf = [tf * idf for tf, idf in zip(vector_tf, vector_idf)]\n",
    "        matriz_tfidf.append(vector_tfidf)\n",
    "    return matriz_tfidf\n",
    "\n",
    "# Generar el vocabulario del conjunto de palabras procesadas\n",
    "vocabulario = list(wset)\n",
    "\n",
    "# Calcular las matrices TF, IDF y TF-IDF\n",
    "matriz_tf = calcular_frecuencia_termino(stem_docs, vocabulario)\n",
    "vector_idf = calcular_frecuencia_inversa_termino(stem_docs, vocabulario)\n",
    "matriz_tfidf = calcular_tfidf(matriz_tf, vector_idf)\n",
    "\n",
    "# Mostrar la Matriz TF-IDF\n",
    "for i, vector_tfidf in enumerate(matriz_tfidf):\n",
    "    print(f\"Vector TF-IDF para el Documento {i + 1}:\\n{vector_tfidf}\\n\")\n"
   ]
  },
  {
   "cell_type": "markdown",
   "id": "4cf3c1efabaaa880",
   "metadata": {},
   "source": [
    "#### 5. Calcule el vector de la consulta utilizando las mismas fórmulas de TF-IDF."
   ]
  },
  {
   "cell_type": "code",
   "execution_count": 36,
   "id": "84a4e509395fb02a",
   "metadata": {},
   "outputs": [
    {
     "name": "stdout",
     "output_type": "stream",
     "text": [
      "Vector TF-IDF para la consulta 1:\n",
      "[0.0, 0.0, 0.0, 0.0, 0.0, 0.0, 0.0, 0.0, 0.0, 0.0, 0.0, 0.0, 0.0, 0.0, 0.0, 0.0, 0.0, 0.0, 0.0, 0.0, 0.0, 0.0, 0.0, 0.0, 0.0, 0.0, 0.0, 0.0, 0.0, 0.0, 0.0, 0.0, 0.0, 0.0, -0.060773852264651526, 0.0, -0.0, 0.0, 0.0, 0.0, 0.0, 0.0, 0.0, 0.0, 0.0, 0.0, 0.0, 0.0, 0.0, 0.0, 0.0, 0.0, 0.0, 0.0, 0.0, 0.0, 0.0, 0.0, 0.0, 0.0, 0.0, 0.0, 0.0, 0.0, 0.0, 0.0, 0.0, 0.0, 0.0, 0.0, 0.0, 0.0, 0.0, 0.0, 0.0, 0.0, 0.0, 0.0, 0.0, 0.0, 0.0, 0.0, 0.0, 0.0, 0.0, 0.0, 0.0, 0.0, 0.0, 0.0, 0.0, 0.0, 0.0, 0.0, 0.0, 0.0, 0.0, -0.060773852264651526, 0.0, 0.07438118377140325, 0.0, 0.0, 0.0, 0.0, 0.0, 0.0, 0.0, 0.0, 0.0, 0.0, 0.0, 0.0]\n",
      "\n",
      "Vector TF-IDF para la consulta 2:\n",
      "[0.0, 0.0, 0.0, 0.0, 0.0, 0.0, 0.0, 0.0, 0.0, 0.0, 0.0, 0.0, 0.0, 0.0, 0.0, 0.0, 0.0, 0.0, 0.0, 0.0, 0.0, 0.0, 0.0, 0.0, 0.0, 0.0, 0.0, 0.0, 0.0, 0.0, 0.0, 0.0, 0.0, 0.0, -0.0911607783969773, 0.0, -0.0, 0.0, 0.0, 0.0, 0.0, 0.0, 0.0, 0.0, 0.0, 0.0, 0.0, 0.0, 0.0, 0.0, 0.0, 0.0, 0.0, 0.0, 0.0, 0.0, 0.0, 0.0, 0.0, 0.0, 0.0, 0.0, 0.0, 0.0, 0.0, 0.0, 0.0, 0.0, 0.0, 0.0, 0.0, 0.0, 0.0, 0.0, 0.0, 0.0, 0.0, 0.0, 0.0, 0.0, 0.0, 0.0, 0.0, 0.0, 0.0, 0.0, 0.0, 0.0, 0.0, 0.0, 0.0, 0.0, 0.0, 0.0, 0.0, 0.0, 0.25541281188299536, -0.0, 0.0, 0.0, 0.0, 0.0, 0.0, 0.0, 0.0, 0.0, 0.0, 0.0, 0.0, 0.0, 0.0, 0.0]\n",
      "\n",
      "Vector TF-IDF para la consulta 3:\n",
      "[0.0, 0.0, 0.0, 0.0, 0.0, 0.0, 0.0, 0.0, 0.0, 0.0, 0.0, 0.0, 0.0, 0.0, 0.0, 0.0, 0.0, 0.0, 0.0, 0.0, 0.0, 0.0, 0.0, 0.0, 0.0, 0.0, 0.0, 0.0, 0.0, 0.0, 0.0, 0.0, 0.0, 0.0, -0.0, 0.0, -0.060773852264651526, 0.0, 0.0, 0.0, 0.0, 0.1702752079219969, 0.0, 0.0, 0.0, 0.0, 0.0, 0.0, 0.0, 0.0, 0.0, 0.0, 0.0, 0.0, 0.0, 0.0, 0.0, 0.0, 0.0, 0.3054302439580517, 0.0, 0.0, 0.0, 0.0, 0.0, 0.0, 0.0, 0.0, 0.0, 0.0, 0.0, 0.0, 0.0, 0.0, 0.0, 0.0, 0.0, 0.0, 0.0, 0.0, 0.0, 0.0, 0.0, 0.0, 0.0, 0.0, 0.0, 0.0, 0.0, 0.0, 0.0, 0.0, 0.0, 0.0, 0.0, 0.0, 0.0, -0.0, 0.0, 0.0, 0.0, 0.0, 0.0, 0.0, 0.0, 0.0, 0.0, 0.0, 0.0, 0.0, 0.0, 0.0]\n",
      "\n"
     ]
    }
   ],
   "source": [
    "# Función para calcular el vector TF-IDF de una consulta\n",
    "def calcular_vector_consulta(consulta, vocabulario, vector_idf):\n",
    "    tokens_consulta = [stemmer.stem(word) for word in consulta.lower().translate(str.maketrans('', '', string.punctuation)).split() if word not in stopw]\n",
    "    vector_tf_consulta = [tokens_consulta.count(palabra) / len(tokens_consulta) if len(tokens_consulta) != 0 else 0 for palabra in vocabulario]\n",
    "    vector_tfidf_consulta = [tf * idf for tf, idf in zip(vector_tf_consulta, vector_idf)]\n",
    "    return vector_tfidf_consulta\n",
    "\n",
    "consulta1 = \"habilidades blandas fundamentales\"\n",
    "consulta2 = \"habilidades técnicas\"\n",
    "consulta3 = \"solución y gestión en informática\"\n",
    "\n",
    "vector_consulta1 = calcular_vector_consulta(consulta1, vocabulario, vector_idf)\n",
    "vector_consulta2 = calcular_vector_consulta(consulta2, vocabulario, vector_idf)\n",
    "vector_consulta3 = calcular_vector_consulta(consulta3, vocabulario, vector_idf)\n",
    "\n",
    "# Mostrar los vectores TF-IDF de las consultas\n",
    "print(f\"Vector TF-IDF para la consulta 1:\\n{vector_consulta1}\\n\")\n",
    "print(f\"Vector TF-IDF para la consulta 2:\\n{vector_consulta2}\\n\")\n",
    "print(f\"Vector TF-IDF para la consulta 3:\\n{vector_consulta3}\\n\")\n"
   ]
  },
  {
   "cell_type": "markdown",
   "id": "21571a443a3a22ef",
   "metadata": {},
   "source": []
  },
  {
   "cell_type": "markdown",
   "id": "9919b6ff27b500f7",
   "metadata": {},
   "source": [
    "#### 6. Utilizando la similitud coseno, determine cuáles son los documentos por recuperarse para las siguientes consultas:\n",
    "6.1. “habilidades blandas fundamentales”\n",
    "\n",
    "6.2. “habilidades técnicas”\n",
    "\n",
    "6.3. “solución y gestión en informática”"
   ]
  },
  {
   "cell_type": "code",
   "execution_count": 37,
   "id": "ddfae35f1a8c519e",
   "metadata": {},
   "outputs": [
    {
     "name": "stdout",
     "output_type": "stream",
     "text": [
      "Similitudes para la consulta 1:\n",
      "Documento 1 (Similitud: 0.2144889417085336):\n",
      "Las habilidades blandas son fundamentales para el éxito en el campo de la informática. Estas habilidades fundamentales incluyen la comunicación efectiva, la capacidad de trabajar en equipo y la gestión del tiempo.\n",
      "\n",
      "Documento 2 (Similitud: 0.16367196517416616):\n",
      "El desarrollo de habilidades blandas es fundamental para los informáticos, ya que estas competencias facilitan la interacción y colaboración en entornos de trabajo dinámicos.\n",
      "\n",
      "Documento 4 (Similitud: 0.11929103343742671):\n",
      "La empatía, por ejemplo, es una habilidad blanda que permite a los profesionales de la informática entender y anticipar las necesidades fundamentales de los usuarios, mejorando así la calidad de los productos y técnicas desarrolladas.\n",
      "\n",
      "Documento 3 (Similitud: 0.09392045489186314):\n",
      "En la informática, la resolución de problemas es una habilidad técnica esencial, pero combinarla con habilidades blandas como la creatividad y el pensamiento crítico puede llevar a soluciones innovadoras.\n",
      "\n",
      "Documento 5 (Similitud: 0.07075802472852642):\n",
      "La inteligencia emocional es una habilidad blanda vital para los informáticos. Permite gestionar mejor las emociones propias y las de los demás, facilitando así un entorno de trabajo más armonioso y productivo.\n",
      "\n",
      "Similitudes para la consulta 2:\n",
      "Documento 3 (Similitud: 0.19386937104362728):\n",
      "En la informática, la resolución de problemas es una habilidad técnica esencial, pero combinarla con habilidades blandas como la creatividad y el pensamiento crítico puede llevar a soluciones innovadoras.\n",
      "\n",
      "Documento 4 (Similitud: 0.18974637337889597):\n",
      "La empatía, por ejemplo, es una habilidad blanda que permite a los profesionales de la informática entender y anticipar las necesidades fundamentales de los usuarios, mejorando así la calidad de los productos y técnicas desarrolladas.\n",
      "\n",
      "Documento 1 (Similitud: 0.04497976426512509):\n",
      "Las habilidades blandas son fundamentales para el éxito en el campo de la informática. Estas habilidades fundamentales incluyen la comunicación efectiva, la capacidad de trabajar en equipo y la gestión del tiempo.\n",
      "\n",
      "Documento 2 (Similitud: 0.029416907813466484):\n",
      "El desarrollo de habilidades blandas es fundamental para los informáticos, ya que estas competencias facilitan la interacción y colaboración en entornos de trabajo dinámicos.\n",
      "\n",
      "Documento 5 (Similitud: 0.022242316792537235):\n",
      "La inteligencia emocional es una habilidad blanda vital para los informáticos. Permite gestionar mejor las emociones propias y las de los demás, facilitando así un entorno de trabajo más armonioso y productivo.\n",
      "\n",
      "Similitudes para la consulta 3:\n",
      "Documento 3 (Similitud: 0.2632529882814492):\n",
      "En la informática, la resolución de problemas es una habilidad técnica esencial, pero combinarla con habilidades blandas como la creatividad y el pensamiento crítico puede llevar a soluciones innovadoras.\n",
      "\n",
      "Documento 1 (Similitud: 0.10138568689820177):\n",
      "Las habilidades blandas son fundamentales para el éxito en el campo de la informática. Estas habilidades fundamentales incluyen la comunicación efectiva, la capacidad de trabajar en equipo y la gestión del tiempo.\n",
      "\n",
      "Documento 5 (Similitud: 0.10026964805448049):\n",
      "La inteligencia emocional es una habilidad blanda vital para los informáticos. Permite gestionar mejor las emociones propias y las de los demás, facilitando así un entorno de trabajo más armonioso y productivo.\n",
      "\n",
      "Documento 2 (Similitud: 0.014984543872901154):\n",
      "El desarrollo de habilidades blandas es fundamental para los informáticos, ya que estas competencias facilitan la interacción y colaboración en entornos de trabajo dinámicos.\n",
      "\n",
      "Documento 4 (Similitud: 0.010921367763164002):\n",
      "La empatía, por ejemplo, es una habilidad blanda que permite a los profesionales de la informática entender y anticipar las necesidades fundamentales de los usuarios, mejorando así la calidad de los productos y técnicas desarrolladas.\n",
      "\n"
     ]
    }
   ],
   "source": [
    "# Función para calcular la similitud coseno\n",
    "def similitud_coseno(vector1, vector2):\n",
    "    producto_punto = sum(a * b for a, b in zip(vector1, vector2))\n",
    "    magnitud1 = math.sqrt(sum(a ** 2 for a in vector1))\n",
    "    magnitud2 = math.sqrt(sum(a ** 2 for a in vector2))\n",
    "    if magnitud1 == 0 or magnitud2 == 0:\n",
    "        return 0\n",
    "    return producto_punto / (magnitud1 * magnitud2)\n",
    "\n",
    "# Calcular la similitud coseno entre las consultas y los documentos\n",
    "similitudes1 = [(i, similitud_coseno(vector_consulta1, vector_doc)) for i, vector_doc in enumerate(matriz_tfidf)]\n",
    "similitudes2 = [(i, similitud_coseno(vector_consulta2, vector_doc)) for i, vector_doc in enumerate(matriz_tfidf)]\n",
    "similitudes3 = [(i, similitud_coseno(vector_consulta3, vector_doc)) for i, vector_doc in enumerate(matriz_tfidf)]\n",
    "\n",
    "similitudes_ordenadas1 = sorted(similitudes1, key=lambda x: x[1], reverse=True)\n",
    "similitudes_ordenadas2 = sorted(similitudes2, key=lambda x: x[1], reverse=True)\n",
    "similitudes_ordenadas3 = sorted(similitudes3, key=lambda x: x[1], reverse=True)\n",
    "\n",
    "# Mostrar las similitudes\n",
    "print(\"Similitudes para la consulta 1:\")\n",
    "for doc_idx, sim in similitudes_ordenadas1:\n",
    "    print(f\"Documento {doc_idx + 1} (Similitud: {sim}):\\n{docs[doc_idx]}\\n\")\n",
    "\n",
    "print(\"Similitudes para la consulta 2:\")\n",
    "for doc_idx, sim in similitudes_ordenadas2:\n",
    "    print(f\"Documento {doc_idx + 1} (Similitud: {sim}):\\n{docs[doc_idx]}\\n\")\n",
    "\n",
    "print(\"Similitudes para la consulta 3:\")\n",
    "for doc_idx, sim in similitudes_ordenadas3:\n",
    "    print(f\"Documento {doc_idx + 1} (Similitud: {sim}):\\n{docs[doc_idx]}\\n\")\n"
   ]
  },
  {
   "cell_type": "markdown",
   "id": "a54de9eb09c5e966",
   "metadata": {},
   "source": [
    "#### 7. Ordene los documentos en función de su similitud con la consulta, de mayor a menor."
   ]
  },
  {
   "cell_type": "code",
   "execution_count": 38,
   "id": "cb9a2e56fde5c0c8",
   "metadata": {},
   "outputs": [
    {
     "name": "stdout",
     "output_type": "stream",
     "text": [
      "Documentos ordenados para la consulta 1:\n",
      "Documento 1 en la posición 1 con similitud 0.2144889417085336:\n",
      "Las habilidades blandas son fundamentales para el éxito en el campo de la informática. Estas habilidades fundamentales incluyen la comunicación efectiva, la capacidad de trabajar en equipo y la gestión del tiempo.\n",
      "\n",
      "Documento 2 en la posición 2 con similitud 0.16367196517416616:\n",
      "El desarrollo de habilidades blandas es fundamental para los informáticos, ya que estas competencias facilitan la interacción y colaboración en entornos de trabajo dinámicos.\n",
      "\n",
      "Documento 4 en la posición 3 con similitud 0.11929103343742671:\n",
      "La empatía, por ejemplo, es una habilidad blanda que permite a los profesionales de la informática entender y anticipar las necesidades fundamentales de los usuarios, mejorando así la calidad de los productos y técnicas desarrolladas.\n",
      "\n",
      "Documento 3 en la posición 4 con similitud 0.09392045489186314:\n",
      "En la informática, la resolución de problemas es una habilidad técnica esencial, pero combinarla con habilidades blandas como la creatividad y el pensamiento crítico puede llevar a soluciones innovadoras.\n",
      "\n",
      "Documento 5 en la posición 5 con similitud 0.07075802472852642:\n",
      "La inteligencia emocional es una habilidad blanda vital para los informáticos. Permite gestionar mejor las emociones propias y las de los demás, facilitando así un entorno de trabajo más armonioso y productivo.\n",
      "\n",
      "Documentos ordenados para la consulta 2:\n",
      "Documento 3 en la posición 1 con similitud 0.19386937104362728:\n",
      "En la informática, la resolución de problemas es una habilidad técnica esencial, pero combinarla con habilidades blandas como la creatividad y el pensamiento crítico puede llevar a soluciones innovadoras.\n",
      "\n",
      "Documento 4 en la posición 2 con similitud 0.18974637337889597:\n",
      "La empatía, por ejemplo, es una habilidad blanda que permite a los profesionales de la informática entender y anticipar las necesidades fundamentales de los usuarios, mejorando así la calidad de los productos y técnicas desarrolladas.\n",
      "\n",
      "Documento 1 en la posición 3 con similitud 0.04497976426512509:\n",
      "Las habilidades blandas son fundamentales para el éxito en el campo de la informática. Estas habilidades fundamentales incluyen la comunicación efectiva, la capacidad de trabajar en equipo y la gestión del tiempo.\n",
      "\n",
      "Documento 2 en la posición 4 con similitud 0.029416907813466484:\n",
      "El desarrollo de habilidades blandas es fundamental para los informáticos, ya que estas competencias facilitan la interacción y colaboración en entornos de trabajo dinámicos.\n",
      "\n",
      "Documento 5 en la posición 5 con similitud 0.022242316792537235:\n",
      "La inteligencia emocional es una habilidad blanda vital para los informáticos. Permite gestionar mejor las emociones propias y las de los demás, facilitando así un entorno de trabajo más armonioso y productivo.\n",
      "\n",
      "Documentos ordenados para la consulta 3:\n",
      "Documento 3 en la posición 1 con similitud 0.2632529882814492:\n",
      "En la informática, la resolución de problemas es una habilidad técnica esencial, pero combinarla con habilidades blandas como la creatividad y el pensamiento crítico puede llevar a soluciones innovadoras.\n",
      "\n",
      "Documento 1 en la posición 2 con similitud 0.10138568689820177:\n",
      "Las habilidades blandas son fundamentales para el éxito en el campo de la informática. Estas habilidades fundamentales incluyen la comunicación efectiva, la capacidad de trabajar en equipo y la gestión del tiempo.\n",
      "\n",
      "Documento 5 en la posición 3 con similitud 0.10026964805448049:\n",
      "La inteligencia emocional es una habilidad blanda vital para los informáticos. Permite gestionar mejor las emociones propias y las de los demás, facilitando así un entorno de trabajo más armonioso y productivo.\n",
      "\n",
      "Documento 2 en la posición 4 con similitud 0.014984543872901154:\n",
      "El desarrollo de habilidades blandas es fundamental para los informáticos, ya que estas competencias facilitan la interacción y colaboración en entornos de trabajo dinámicos.\n",
      "\n",
      "Documento 4 en la posición 5 con similitud 0.010921367763164002:\n",
      "La empatía, por ejemplo, es una habilidad blanda que permite a los profesionales de la informática entender y anticipar las necesidades fundamentales de los usuarios, mejorando así la calidad de los productos y técnicas desarrolladas.\n",
      "\n"
     ]
    }
   ],
   "source": [
    "# Ordenar y mostrar los documentos según su similitud coseno para cada consulta\n",
    "documentos_ordenados1 = [docs[i] for i, sim in similitudes_ordenadas1]\n",
    "documentos_ordenados2 = [docs[i] for i, sim in similitudes_ordenadas2]\n",
    "documentos_ordenados3 = [docs[i] for i, sim in similitudes_ordenadas3]\n",
    "\n",
    "print(\"Documentos ordenados para la consulta 1:\")\n",
    "for i, (doc_idx, sim) in enumerate(similitudes_ordenadas1):\n",
    "    print(f\"Documento {doc_idx + 1} en la posición {i + 1} con similitud {sim}:\\n{docs[doc_idx]}\\n\")\n",
    "\n",
    "print(\"Documentos ordenados para la consulta 2:\")\n",
    "for i, (doc_idx, sim) in enumerate(similitudes_ordenadas2):\n",
    "    print(f\"Documento {doc_idx + 1} en la posición {i + 1} con similitud {sim}:\\n{docs[doc_idx]}\\n\")\n",
    "\n",
    "print(\"Documentos ordenados para la consulta 3:\")\n",
    "for i, (doc_idx, sim) in enumerate(similitudes_ordenadas3):\n",
    "    print(f\"Documento {doc_idx + 1} en la posición {i + 1} con similitud {sim}:\\n{docs[doc_idx]}\\n\")\n"
   ]
  },
  {
   "cell_type": "markdown",
   "id": "8cd4938aed7cae14",
   "metadata": {},
   "source": [
    "#### 8. Determine cuál es el documento más relevante para la consulta dada."
   ]
  },
  {
   "cell_type": "code",
   "execution_count": 39,
   "id": "40aa0ac1",
   "metadata": {},
   "outputs": [
    {
     "name": "stdout",
     "output_type": "stream",
     "text": [
      "Documento más relevante para la consulta 1:\n",
      "Las habilidades blandas son fundamentales para el éxito en el campo de la informática. Estas habilidades fundamentales incluyen la comunicación efectiva, la capacidad de trabajar en equipo y la gestión del tiempo.\n",
      "Documento más relevante para la consulta 2:\n",
      "En la informática, la resolución de problemas es una habilidad técnica esencial, pero combinarla con habilidades blandas como la creatividad y el pensamiento crítico puede llevar a soluciones innovadoras.\n",
      "Documento más relevante para la consulta 3:\n",
      "En la informática, la resolución de problemas es una habilidad técnica esencial, pero combinarla con habilidades blandas como la creatividad y el pensamiento crítico puede llevar a soluciones innovadoras.\n"
     ]
    }
   ],
   "source": [
    "# Mostrar el documento más relevante para cada consulta\n",
    "documento_mas_relevante1 = docs[similitudes_ordenadas1[0][0]]\n",
    "documento_mas_relevante2 = docs[similitudes_ordenadas2[0][0]]\n",
    "documento_mas_relevante3 = docs[similitudes_ordenadas3[0][0]]\n",
    "\n",
    "print(f\"Documento más relevante para la consulta 1:\\n{documento_mas_relevante1}\")\n",
    "print(f\"Documento más relevante para la consulta 2:\\n{documento_mas_relevante2}\")\n",
    "print(f\"Documento más relevante para la consulta 3:\\n{documento_mas_relevante3}\")\n"
   ]
  },
  {
   "cell_type": "code",
   "execution_count": null,
   "id": "e2ef0ae2",
   "metadata": {},
   "outputs": [],
   "source": []
  }
 ],
 "metadata": {
  "kernelspec": {
   "display_name": "Python 3",
   "language": "python",
   "name": "python3"
  },
  "language_info": {
   "codemirror_mode": {
    "name": "ipython",
    "version": 3
   },
   "file_extension": ".py",
   "mimetype": "text/x-python",
   "name": "python",
   "nbconvert_exporter": "python",
   "pygments_lexer": "ipython3",
   "version": "3.9.11"
  }
 },
 "nbformat": 4,
 "nbformat_minor": 5
}
