{
 "cells": [
  {
   "cell_type": "markdown",
   "id": "3678b6ceab34c216",
   "metadata": {
    "collapsed": false
   },
   "source": [
    "# Basic Boolean Search in Documents\n",
    "\n",
    "## Objective\n",
    "Expand the simple term search functionality to include Boolean search capabilities. This will allow users to perform more complex queries by combining multiple search terms using Boolean operators.\n",
    "\n",
    "## Problem Description\n",
    "You must enhance the existing search engine from the previous exercise to support Boolean operators: AND, OR, and NOT. This will enable the retrieval of documents based on the logical relationships between multiple terms.\n",
    "\n",
    "## Requirements\n",
    "\n",
    "### Step 1: Update Data Preparation\n",
    "Ensure that the documents are still loaded and preprocessed from the previous task. The data should be clean and ready for advanced querying."
   ]
  },
  {
   "cell_type": "code",
   "execution_count": 1,
   "id": "initial_id",
   "metadata": {
    "collapsed": true
   },
   "outputs": [],
   "source": [
    "# Paso 1: Actualización de la Preparación de Datos\n",
    "\n",
    "# Importar librerías necesarias\n",
    "import os\n",
    "\n",
    "# Ruta de la carpeta donde están los archivos de texto\n",
    "ruta_carpeta = r\"C:\\Users\\Ronny Amores\\Desktop\\EPN\\Octavo\\RI\\GITHUB\\ir24a\\week01\\data\"\n",
    "\n",
    "# Lista para almacenar los nombres de los archivos\n",
    "archivos_en_carpeta = []\n",
    "\n",
    "# Obtener la lista de archivos en la carpeta\n",
    "for nombre_archivo in os.listdir(ruta_carpeta):\n",
    "    # Verificar si el archivo es un archivo de texto\n",
    "    if nombre_archivo.endswith(\".txt\"):\n",
    "        archivos_en_carpeta.append(nombre_archivo)"
   ]
  },
  {
   "cell_type": "markdown",
   "id": "c84e5829",
   "metadata": {},
   "source": [
    "### Step 2: Create an Inverted Index\n",
    "\n",
    "Create an inverted index from the documents. This index maps each word to the set of document IDs in which that word appears. This facilitates word lookup in the search process.\n",
    "\n"
   ]
  },
  {
   "cell_type": "code",
   "execution_count": 2,
   "id": "395c371f",
   "metadata": {},
   "outputs": [],
   "source": [
    "# Paso 2: Crear un Índice Invertido y Matriz de Índices Binarios\n",
    "\n",
    "# Crear un diccionario para almacenar el índice invertido\n",
    "indice_invertido = {}\n",
    "# Crear un diccionario para almacenar la matriz de índices binarios\n",
    "matriz_indices = {}\n",
    "\n",
    "# Iterar sobre cada archivo para construir el índice invertido y la matriz de índices binarios\n",
    "for nombre_archivo in archivos_en_carpeta:\n",
    "    with open(os.path.join(ruta_carpeta, nombre_archivo), 'r', encoding='utf-8') as archivo:\n",
    "        contenido = archivo.read()\n",
    "        # Dividir el contenido en palabras únicas\n",
    "        palabras_unicas = set(contenido.split())\n",
    "        # Iterar sobre cada palabra única\n",
    "        for palabra in palabras_unicas:\n",
    "            palabra = palabra.lower()  # Convertir la palabra a minúsculas\n",
    "            # Actualizar el índice invertido\n",
    "            if palabra not in indice_invertido:\n",
    "                indice_invertido[palabra] = set()\n",
    "            indice_invertido[palabra].add(nombre_archivo)\n",
    "            # Actualizar la matriz de índices binarios\n",
    "            if palabra not in matriz_indices:\n",
    "                matriz_indices[palabra] = [0] * len(archivos_en_carpeta)\n",
    "            matriz_indices[palabra][archivos_en_carpeta.index(nombre_archivo)] = 1"
   ]
  },
  {
   "cell_type": "markdown",
   "id": "3acc21d4",
   "metadata": {},
   "source": [
    "### Step 3: Query Processing\n",
    "- **Parse the Query**: Implement a function to parse the input query to identify the terms and operators.\n",
    "- **Search Documents**: Based on the parsed query, implement the logic to retrieve and rank the documents according to the Boolean expressions.\n",
    "\n"
   ]
  },
  {
   "cell_type": "code",
   "execution_count": 3,
   "id": "8ecf3ba6",
   "metadata": {},
   "outputs": [],
   "source": [
    "# Paso 3: Procesamiento de Consultas\n",
    "\n",
    "# Función para buscar documentos basándose en la palabra consultada\n",
    "def buscar_documentos(palabra_consultada):\n",
    "    if palabra_consultada in indice_invertido:\n",
    "        return indice_invertido[palabra_consultada]\n",
    "    else:\n",
    "        return set()\n"
   ]
  },
  {
   "cell_type": "markdown",
   "id": "b8fbb06a",
   "metadata": {},
   "source": [
    "### Step 4: Displaying Results\n",
    "- **Output the Results**: Display the documents that match the query criteria. Include functionalities to handle queries that result in no matching documents.\n"
   ]
  },
  {
   "cell_type": "code",
   "execution_count": 4,
   "id": "441d926f",
   "metadata": {},
   "outputs": [
    {
     "name": "stdout",
     "output_type": "stream",
     "text": [
      "Documentos coincidentes para la palabra 'handsome':\n",
      "pg37106.txt\n",
      "pg84.txt\n",
      "pg120.txt\n",
      "pg174.txt\n",
      "pg21700.txt\n",
      "pg2600.txt\n",
      "pg30254.txt\n",
      "pg11.txt\n",
      "pg41445.txt\n",
      "pg2852.txt\n",
      "pg394.txt\n",
      "pg514.txt\n",
      "pg61419.txt\n",
      "pg6761.txt\n",
      "pg41070.txt\n",
      "pg26073.txt\n",
      "pg73448.txt\n",
      "pg1259.txt\n",
      "pg768.txt\n",
      "pg2641.txt\n",
      "pg43.txt\n",
      "pg1184.txt\n",
      "pg1342.txt\n",
      "pg59469.txt\n",
      "pg600.txt\n",
      "pg76.txt\n",
      "pg62119.txt\n",
      "pg52882.txt\n",
      "pg2591.txt\n",
      "pg47312.txt\n",
      "pg205.txt\n",
      "pg100.txt\n",
      "pg47948.txt\n",
      "pg48191.txt\n",
      "pg73447.txt\n",
      "pg21012.txt\n",
      "pg42933.txt\n",
      "pg16.txt\n",
      "pg98.txt\n",
      "pg10676.txt\n",
      "pg45848.txt\n",
      "pg27827.txt\n",
      "pg2554.txt\n",
      "pg6593.txt\n",
      "pg1998.txt\n",
      "pg45.txt\n",
      "pg16389.txt\n",
      "pg1661.txt\n",
      "pg2701.txt\n",
      "pg2814.txt\n",
      "pg46.txt\n",
      "pg1260.txt\n",
      "pg2160.txt\n",
      "pg67979.txt\n",
      "pg28054.txt\n",
      "pg74.txt\n",
      "pg5197.txt\n",
      "pg1727.txt\n",
      "pg44837.txt\n",
      "pg29728.txt\n",
      "pg408.txt\n",
      "pg996.txt\n",
      "pg18893.txt\n",
      "pg64317.txt\n",
      "pg4300.txt\n",
      "pg4085.txt\n",
      "pg1400.txt\n",
      "pg73444.txt\n",
      "pg145.txt\n",
      "pg55.txt\n",
      "pg59468.txt\n",
      "pg50038.txt\n"
     ]
    }
   ],
   "source": [
    "# Paso 4: Mostrar Resultados\n",
    "\n",
    "# Solicitar al usuario la palabra a buscar\n",
    "palabra_a_buscar = input(\"Ingrese la palabra que desea buscar: \")\n",
    "\n",
    "# Buscar documentos que contienen la palabra consultada\n",
    "documentos_coincidentes = buscar_documentos(palabra_a_buscar)\n",
    "\n",
    "# Mostrar los documentos coincidentes\n",
    "print(\"Documentos coincidentes para la palabra '{}':\".format(palabra_a_buscar))\n",
    "if documentos_coincidentes:\n",
    "    for documento in documentos_coincidentes:\n",
    "        print(documento)\n",
    "else:\n",
    "    print(\"No se encontraron documentos coincidentes.\")\n"
   ]
  },
  {
   "cell_type": "code",
   "execution_count": 5,
   "id": "b9088460",
   "metadata": {},
   "outputs": [
    {
     "name": "stdout",
     "output_type": "stream",
     "text": [
      "Documentos coincidentes para la palabra 'percy':\n",
      "pg62119.txt\n",
      "pg52882.txt\n",
      "pg30254.txt\n",
      "pg4300.txt\n",
      "pg100.txt\n",
      "pg73448.txt\n"
     ]
    }
   ],
   "source": [
    "# Paso 4: Mostrar Resultados\n",
    "\n",
    "# Solicitar al usuario la palabra a buscar\n",
    "palabra_a_buscar = input(\"Ingrese la palabra que desea buscar: \")\n",
    "\n",
    "# Buscar documentos que contienen la palabra consultada\n",
    "documentos_coincidentes = buscar_documentos(palabra_a_buscar)\n",
    "\n",
    "# Mostrar los documentos coincidentes\n",
    "print(\"Documentos coincidentes para la palabra '{}':\".format(palabra_a_buscar))\n",
    "if documentos_coincidentes:\n",
    "    for documento in documentos_coincidentes:\n",
    "        print(documento)\n",
    "else:\n",
    "    print(\"No se encontraron documentos coincidentes.\")\n"
   ]
  }
 ],
 "metadata": {
  "kernelspec": {
   "display_name": "Python 3",
   "language": "python",
   "name": "python3"
  },
  "language_info": {
   "codemirror_mode": {
    "name": "ipython",
    "version": 3
   },
   "file_extension": ".py",
   "mimetype": "text/x-python",
   "name": "python",
   "nbconvert_exporter": "python",
   "pygments_lexer": "ipython3",
   "version": "3.9.10"
  }
 },
 "nbformat": 4,
 "nbformat_minor": 5
}
